{
 "cells": [
  {
   "cell_type": "code",
   "execution_count": null,
   "metadata": {},
   "outputs": [],
   "source": [
    "import pandas as pd\n",
    "from sqlalchemy import create_engine"
   ]
  },
  {
   "cell_type": "code",
   "execution_count": null,
   "metadata": {},
   "outputs": [],
   "source": [
    "# Load data\n",
    "csv_file = \"../Resources/gender_inequality.csv\"\n",
    "gender_inequality_df = pd.read_csv(csv_file)\n",
    "gender_inequality_df"
   ]
  },
  {
   "cell_type": "code",
   "execution_count": null,
   "metadata": {},
   "outputs": [],
   "source": [
    "# Aggregate data\n",
    "new_gender_inequality_df = gender_inequality_df[[\"Country\", \"Gender Inequality Index (GII)\n",
    "\", Maternal Mortality Ratio\", \"Percent Representation in Parliament\"]]\n",
    "new_gender_inequality_df.head()"
   ]
  },
  {
   "cell_type": "code",
   "execution_count": null,
   "metadata": {},
   "outputs": [],
   "source": [
    "# Load data\n",
    "csv_file = \"../Resources/gender_development.csv\"\n",
    "gender_development_df = pd.read_csv(csv_file)\n",
    "gender_development_df"
   ]
  },
  {
   "cell_type": "code",
   "execution_count": null,
   "metadata": {},
   "outputs": [],
   "source": [
    "# Aggregate data\n",
    "new_gender_development_df = gender_inequality_df[[\"Country\", \"Gender Development Index (GDI)\", \"Human Development Index (Female)\n",
    "\", Human Development Index (Male)\"]]\n",
    "new_gender_development_df.head()"
   ]
  },
  {
   "cell_type": "code",
   "execution_count": null,
   "metadata": {},
   "outputs": [],
   "source": [
    "gga_connection_string = \"abbi:dO*mes33!@localhost:5432/Global_Gender_Analysis\"\n",
    "engine = create_engine(f'postgresql://{gga_connection_string}')"
   ]
  },
  {
   "cell_type": "code",
   "execution_count": null,
   "metadata": {},
   "outputs": [],
   "source": [
    "engine.table_names()"
   ]
  },
  {
   "cell_type": "code",
   "execution_count": null,
   "metadata": {},
   "outputs": [],
   "source": [
    "# Load csv converted DF into database\n",
    "new_gender_inequality_df.to_sql(name='gender_inequality', con=engine, if_exists='append', index=False)\n",
    "\n",
    "new_gender_development_df.to_sql(name='gender_development', con=engine, if_exists='append', index=False)"
   ]
  },
  {
   "cell_type": "code",
   "execution_count": null,
   "metadata": {},
   "outputs": [],
   "source": [
    "# Query GE table\n",
    "pd.read_sql_query('select * from gender_inequality', con=engine).head()"
   ]
  },
  {
   "cell_type": "code",
   "execution_count": null,
   "metadata": {},
   "outputs": [],
   "source": [
    "# Query GD table\n",
    "pd.read_sql_query('select * from gender_development', con=engine).head()"
   ]
  }
 ],
 "metadata": {
  "kernelspec": {
   "display_name": "Python 3.8.3 64-bit ('PythonData': conda)",
   "language": "python",
   "name": "python38364bitpythondataconda623f6ce1c87446c6b66ed1eb960e7e77"
  },
  "language_info": {
   "codemirror_mode": {
    "name": "ipython",
    "version": 3
   },
   "file_extension": ".py",
   "mimetype": "text/x-python",
   "name": "python",
   "nbconvert_exporter": "python",
   "pygments_lexer": "ipython3",
   "version": "3.8.3"
  }
 },
 "nbformat": 4,
 "nbformat_minor": 4
}
